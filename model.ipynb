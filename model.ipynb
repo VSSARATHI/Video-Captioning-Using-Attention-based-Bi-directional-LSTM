{
  "nbformat": 4,
  "nbformat_minor": 0,
  "metadata": {
    "colab": {
      "name": "model.ipynb",
      "provenance": [],
      "collapsed_sections": [],
      "toc_visible": true,
      "machine_shape": "hm",
      "mount_file_id": "1Gx9msCIq1boBvMzTmITnLzHRMIhA3Ycg",
      "authorship_tag": "ABX9TyOMHmMrN2IKzUyVaD11GRpp",
      "include_colab_link": true
    },
    "kernelspec": {
      "name": "python3",
      "display_name": "Python 3"
    },
    "widgets": {
      "application/vnd.jupyter.widget-state+json": {
        "8bca1ba11e9a46f5b07c3487b218e739": {
          "model_module": "@jupyter-widgets/controls",
          "model_name": "HBoxModel",
          "state": {
            "_view_name": "HBoxView",
            "_dom_classes": [],
            "_model_name": "HBoxModel",
            "_view_module": "@jupyter-widgets/controls",
            "_model_module_version": "1.5.0",
            "_view_count": null,
            "_view_module_version": "1.5.0",
            "box_style": "",
            "layout": "IPY_MODEL_77995ce978024a2e822eb7427ce5cd46",
            "_model_module": "@jupyter-widgets/controls",
            "children": [
              "IPY_MODEL_c2eab07de6944e718ac0aaffb04f1e76",
              "IPY_MODEL_67a342a9bbba46faafd807e76d1b8424"
            ]
          }
        },
        "77995ce978024a2e822eb7427ce5cd46": {
          "model_module": "@jupyter-widgets/base",
          "model_name": "LayoutModel",
          "state": {
            "_view_name": "LayoutView",
            "grid_template_rows": null,
            "right": null,
            "justify_content": null,
            "_view_module": "@jupyter-widgets/base",
            "overflow": null,
            "_model_module_version": "1.2.0",
            "_view_count": null,
            "flex_flow": null,
            "width": null,
            "min_width": null,
            "border": null,
            "align_items": null,
            "bottom": null,
            "_model_module": "@jupyter-widgets/base",
            "top": null,
            "grid_column": null,
            "overflow_y": null,
            "overflow_x": null,
            "grid_auto_flow": null,
            "grid_area": null,
            "grid_template_columns": null,
            "flex": null,
            "_model_name": "LayoutModel",
            "justify_items": null,
            "grid_row": null,
            "max_height": null,
            "align_content": null,
            "visibility": null,
            "align_self": null,
            "height": null,
            "min_height": null,
            "padding": null,
            "grid_auto_rows": null,
            "grid_gap": null,
            "max_width": null,
            "order": null,
            "_view_module_version": "1.2.0",
            "grid_template_areas": null,
            "object_position": null,
            "object_fit": null,
            "grid_auto_columns": null,
            "margin": null,
            "display": null,
            "left": null
          }
        },
        "c2eab07de6944e718ac0aaffb04f1e76": {
          "model_module": "@jupyter-widgets/controls",
          "model_name": "FloatProgressModel",
          "state": {
            "_view_name": "ProgressView",
            "style": "IPY_MODEL_be65cec1ca9d42a59cc05c0ffc77b5bf",
            "_dom_classes": [],
            "description": "100%",
            "_model_name": "FloatProgressModel",
            "bar_style": "success",
            "max": 1000,
            "_view_module": "@jupyter-widgets/controls",
            "_model_module_version": "1.5.0",
            "value": 1000,
            "_view_count": null,
            "_view_module_version": "1.5.0",
            "orientation": "horizontal",
            "min": 0,
            "description_tooltip": null,
            "_model_module": "@jupyter-widgets/controls",
            "layout": "IPY_MODEL_be250afb21d2406290f7b7dfc0fea777"
          }
        },
        "67a342a9bbba46faafd807e76d1b8424": {
          "model_module": "@jupyter-widgets/controls",
          "model_name": "HTMLModel",
          "state": {
            "_view_name": "HTMLView",
            "style": "IPY_MODEL_1ca052ed10b44780a84eb2d19e16745a",
            "_dom_classes": [],
            "description": "",
            "_model_name": "HTMLModel",
            "placeholder": "​",
            "_view_module": "@jupyter-widgets/controls",
            "_model_module_version": "1.5.0",
            "value": " 1000/1000 [15:13&lt;00:00,  1.10it/s]",
            "_view_count": null,
            "_view_module_version": "1.5.0",
            "description_tooltip": null,
            "_model_module": "@jupyter-widgets/controls",
            "layout": "IPY_MODEL_55e1d310e87441d0a3e02f973f0f4a4c"
          }
        },
        "be65cec1ca9d42a59cc05c0ffc77b5bf": {
          "model_module": "@jupyter-widgets/controls",
          "model_name": "ProgressStyleModel",
          "state": {
            "_view_name": "StyleView",
            "_model_name": "ProgressStyleModel",
            "description_width": "initial",
            "_view_module": "@jupyter-widgets/base",
            "_model_module_version": "1.5.0",
            "_view_count": null,
            "_view_module_version": "1.2.0",
            "bar_color": null,
            "_model_module": "@jupyter-widgets/controls"
          }
        },
        "be250afb21d2406290f7b7dfc0fea777": {
          "model_module": "@jupyter-widgets/base",
          "model_name": "LayoutModel",
          "state": {
            "_view_name": "LayoutView",
            "grid_template_rows": null,
            "right": null,
            "justify_content": null,
            "_view_module": "@jupyter-widgets/base",
            "overflow": null,
            "_model_module_version": "1.2.0",
            "_view_count": null,
            "flex_flow": null,
            "width": null,
            "min_width": null,
            "border": null,
            "align_items": null,
            "bottom": null,
            "_model_module": "@jupyter-widgets/base",
            "top": null,
            "grid_column": null,
            "overflow_y": null,
            "overflow_x": null,
            "grid_auto_flow": null,
            "grid_area": null,
            "grid_template_columns": null,
            "flex": null,
            "_model_name": "LayoutModel",
            "justify_items": null,
            "grid_row": null,
            "max_height": null,
            "align_content": null,
            "visibility": null,
            "align_self": null,
            "height": null,
            "min_height": null,
            "padding": null,
            "grid_auto_rows": null,
            "grid_gap": null,
            "max_width": null,
            "order": null,
            "_view_module_version": "1.2.0",
            "grid_template_areas": null,
            "object_position": null,
            "object_fit": null,
            "grid_auto_columns": null,
            "margin": null,
            "display": null,
            "left": null
          }
        },
        "1ca052ed10b44780a84eb2d19e16745a": {
          "model_module": "@jupyter-widgets/controls",
          "model_name": "DescriptionStyleModel",
          "state": {
            "_view_name": "StyleView",
            "_model_name": "DescriptionStyleModel",
            "description_width": "",
            "_view_module": "@jupyter-widgets/base",
            "_model_module_version": "1.5.0",
            "_view_count": null,
            "_view_module_version": "1.2.0",
            "_model_module": "@jupyter-widgets/controls"
          }
        },
        "55e1d310e87441d0a3e02f973f0f4a4c": {
          "model_module": "@jupyter-widgets/base",
          "model_name": "LayoutModel",
          "state": {
            "_view_name": "LayoutView",
            "grid_template_rows": null,
            "right": null,
            "justify_content": null,
            "_view_module": "@jupyter-widgets/base",
            "overflow": null,
            "_model_module_version": "1.2.0",
            "_view_count": null,
            "flex_flow": null,
            "width": null,
            "min_width": null,
            "border": null,
            "align_items": null,
            "bottom": null,
            "_model_module": "@jupyter-widgets/base",
            "top": null,
            "grid_column": null,
            "overflow_y": null,
            "overflow_x": null,
            "grid_auto_flow": null,
            "grid_area": null,
            "grid_template_columns": null,
            "flex": null,
            "_model_name": "LayoutModel",
            "justify_items": null,
            "grid_row": null,
            "max_height": null,
            "align_content": null,
            "visibility": null,
            "align_self": null,
            "height": null,
            "min_height": null,
            "padding": null,
            "grid_auto_rows": null,
            "grid_gap": null,
            "max_width": null,
            "order": null,
            "_view_module_version": "1.2.0",
            "grid_template_areas": null,
            "object_position": null,
            "object_fit": null,
            "grid_auto_columns": null,
            "margin": null,
            "display": null,
            "left": null
          }
        }
      }
    }
  },
  "cells": [
    {
      "cell_type": "markdown",
      "metadata": {
        "id": "view-in-github",
        "colab_type": "text"
      },
      "source": [
        "<a href=\"https://colab.research.google.com/github/VSSARATHI/Video-Captioning-Using-Attention-based-Bi-directional-LSTM/blob/master/model.ipynb\" target=\"_parent\"><img src=\"https://colab.research.google.com/assets/colab-badge.svg\" alt=\"Open In Colab\"/></a>"
      ]
    },
    {
      "cell_type": "code",
      "metadata": {
        "id": "Mx_4hyyCyeFV",
        "colab_type": "code",
        "colab": {}
      },
      "source": [
        "import numpy as np\n",
        "import os\n",
        "import matplotlib.pyplot as plt\n",
        "from sklearn.model_selection import train_test_split\n",
        "from sklearn.utils import shuffle\n",
        "\n",
        "%tensorflow_version 2.x\n",
        "import tensorflow as tf"
      ],
      "execution_count": null,
      "outputs": []
    },
    {
      "cell_type": "code",
      "metadata": {
        "id": "MrK8rrLzBPia",
        "colab_type": "code",
        "colab": {}
      },
      "source": [
        "video_vector = np.load(\"/content/drive/My Drive/Colab Notebooks/CV_Project/x_train1.npy\")\n",
        "train_captions = np.load(\"/content/drive/My Drive/Colab Notebooks/CV_Project/y_train1.npy\")\n",
        "name = np.load(\"/content/drive/My Drive/Colab Notebooks/CV_Project/videos1.npy\")"
      ],
      "execution_count": null,
      "outputs": []
    },
    {
      "cell_type": "code",
      "metadata": {
        "id": "3W4UnLfA36x4",
        "colab_type": "code",
        "colab": {}
      },
      "source": [
        "def calc_max_length(tensor):\n",
        "    return max(len(t) for t in tensor)\n",
        "\n",
        "top_k = 10000\n",
        "tokenizer = tf.keras.preprocessing.text.Tokenizer(num_words=top_k,\n",
        "                                                  oov_token=\"<unk>\",\n",
        "                                                  filters='!\"#$%&()*+.,-/:;=?@[\\]^_`{|}~ ')\n"
      ],
      "execution_count": null,
      "outputs": []
    },
    {
      "cell_type": "code",
      "metadata": {
        "id": "9SASLkgWgYqa",
        "colab_type": "code",
        "colab": {}
      },
      "source": [
        "tokenizer.fit_on_texts(train_captions)\n",
        "train_seqs = tokenizer.texts_to_sequences(train_captions)\n",
        "\n",
        "tokenizer.word_index['<pad>'] = 0\n",
        "tokenizer.index_word[0] = '<pad>'\n",
        "\n",
        "train_seqs = tokenizer.texts_to_sequences(train_captions)\n",
        "\n",
        "cap_vector = tf.keras.preprocessing.sequence.pad_sequences(train_seqs, padding='post')\n",
        "\n",
        "max_length = calc_max_length(train_seqs)\n"
      ],
      "execution_count": null,
      "outputs": []
    },
    {
      "cell_type": "code",
      "metadata": {
        "id": "EaeMIJg-g1zW",
        "colab_type": "code",
        "colab": {
          "base_uri": "https://localhost:8080/",
          "height": 34
        },
        "outputId": "b78bf19e-2e7f-4b4b-c22f-91025d075172"
      },
      "source": [
        "video_train, video_val, cap_train, cap_val = train_test_split(video_vector,\n",
        "                                                                    cap_vector,\n",
        "                                                                    test_size=0.2,\n",
        "                                                                    random_state=0)\n",
        "\n",
        "len(video_train), len(cap_train), len(video_val), len(cap_val)\n"
      ],
      "execution_count": null,
      "outputs": [
        {
          "output_type": "execute_result",
          "data": {
            "text/plain": [
              "(8000, 8000, 2000, 2000)"
            ]
          },
          "metadata": {
            "tags": []
          },
          "execution_count": 55
        }
      ]
    },
    {
      "cell_type": "code",
      "metadata": {
        "id": "A4gN7sPLTDJI",
        "colab_type": "code",
        "colab": {
          "base_uri": "https://localhost:8080/",
          "height": 50
        },
        "outputId": "9575dd80-4623-4588-fe49-540713195fd1"
      },
      "source": [
        "print(video_train.shape)\n",
        "len(cap_train[0])"
      ],
      "execution_count": null,
      "outputs": [
        {
          "output_type": "stream",
          "text": [
            "(8000, 30, 4096)\n"
          ],
          "name": "stdout"
        },
        {
          "output_type": "execute_result",
          "data": {
            "text/plain": [
              "39"
            ]
          },
          "metadata": {
            "tags": []
          },
          "execution_count": 56
        }
      ]
    },
    {
      "cell_type": "code",
      "metadata": {
        "id": "sLmMNWq8QiEY",
        "colab_type": "code",
        "colab": {}
      },
      "source": [
        "BATCH_SIZE = 64\n",
        "BUFFER_SIZE = 1000\n",
        "steps_per_epoch = len(video_train)//BATCH_SIZE"
      ],
      "execution_count": null,
      "outputs": []
    },
    {
      "cell_type": "code",
      "metadata": {
        "id": "0-oPFw1CQaQZ",
        "colab_type": "code",
        "colab": {}
      },
      "source": [
        "dataset = tf.data.Dataset.from_tensor_slices((video_train, cap_train))\n",
        "\n",
        "dataset = dataset.shuffle(BUFFER_SIZE).batch(BATCH_SIZE)\n",
        "dataset = dataset.prefetch(buffer_size=tf.data.experimental.AUTOTUNE)"
      ],
      "execution_count": null,
      "outputs": []
    },
    {
      "cell_type": "code",
      "metadata": {
        "id": "48VzfcIzxszm",
        "colab_type": "code",
        "colab": {}
      },
      "source": [
        "class Encoder(tf.keras.Model):\n",
        "  def __init__(self, enc_units, batch_sz, max_frames):\n",
        "\n",
        "    super(Encoder, self).__init__()\n",
        "\n",
        "    self.batch_sz = batch_sz\n",
        "\n",
        "    self.enc_units = enc_units\n",
        "\n",
        "    self.max_frames = max_frames\n",
        "\n",
        "    self.LSTM = tf.keras.layers.Bidirectional(tf.keras.layers.LSTM(self.enc_units, return_sequences = True))\n",
        "\n",
        "  def call(self, x, hidden):\n",
        "\n",
        "    output = self.LSTM(x, initial_state = hidden)\n",
        "\n",
        "    return output\n",
        "\n",
        "  def initialize_hidden_state(self, batch_sz):\n",
        "\n",
        "    c_0 = tf.convert_to_tensor(np.zeros([batch_sz, self.enc_units]).astype(np.float32))\n",
        "\n",
        "    h_0 = tf.convert_to_tensor(np.zeros([batch_sz, self.enc_units]).astype(np.float32))\n",
        "\n",
        "    c_1 = tf.convert_to_tensor(np.zeros([batch_sz, self.enc_units]).astype(np.float32))\n",
        "\n",
        "    h_1 = tf.convert_to_tensor(np.zeros([batch_sz, self.enc_units]).astype(np.float32))\n",
        "\n",
        "    initial_state = [h_0, c_0, h_1, c_1]\n",
        "    \n",
        "    return initial_state"
      ],
      "execution_count": null,
      "outputs": []
    },
    {
      "cell_type": "code",
      "metadata": {
        "id": "NJ8NlPlSyC0B",
        "colab_type": "code",
        "colab": {
          "base_uri": "https://localhost:8080/",
          "height": 34
        },
        "outputId": "ef481baa-afc8-4527-8268-22bff276c233"
      },
      "source": [
        "units = 1024\n",
        "BATCH_SIZE = 64\n",
        "MAX_FRAMES = 30\n",
        "encoder = Encoder(units, BATCH_SIZE, MAX_FRAMES)\n",
        "\n",
        "example_input_batch = tf.random.uniform(shape = [64,30,4096])\n",
        "sample_hidden = encoder.initialize_hidden_state(BATCH_SIZE)\n",
        "sample_output = encoder(example_input_batch, sample_hidden)\n",
        "print ('Encoder output shape: (batch size, sequence length, units) {}'.format(sample_output.shape))"
      ],
      "execution_count": null,
      "outputs": [
        {
          "output_type": "stream",
          "text": [
            "Encoder output shape: (batch size, sequence length, units) (64, 30, 2048)\n"
          ],
          "name": "stdout"
        }
      ]
    },
    {
      "cell_type": "code",
      "metadata": {
        "id": "cohxKrBIyGgu",
        "colab_type": "code",
        "colab": {}
      },
      "source": [
        "class BahdanauAttention(tf.keras.layers.Layer):\n",
        "  def __init__(self, units):\n",
        "\n",
        "    super(BahdanauAttention, self).__init__()\n",
        "\n",
        "    self.W1 = tf.keras.layers.Dense(units)\n",
        "\n",
        "    self.W2 = tf.keras.layers.Dense(units)\n",
        "    \n",
        "    self.V = tf.keras.layers.Dense(1)\n",
        "\n",
        "  def call(self, hidden, sample_output):\n",
        "\n",
        "    state_hidden = tf.expand_dims(hidden, 1)\n",
        "\n",
        "    score = self.V(tf.nn.tanh(self.W1(state_hidden) + self.W2(sample_output)))\n",
        "\n",
        "    attention_weights = tf.nn.softmax(score, axis=1)\n",
        "\n",
        "    context_vector = attention_weights * sample_output\n",
        "\n",
        "    context_vector = tf.reduce_sum(context_vector, axis=1)\n",
        "\n",
        "    return context_vector, attention_weights"
      ],
      "execution_count": null,
      "outputs": []
    },
    {
      "cell_type": "code",
      "metadata": {
        "id": "gaRFvSdhyIv2",
        "colab_type": "code",
        "colab": {
          "base_uri": "https://localhost:8080/",
          "height": 50
        },
        "outputId": "6e8b888a-156c-4a0a-f99a-d24884133bf6"
      },
      "source": [
        "attention_layer = BahdanauAttention(10)\n",
        "attention_result, attention_weights = attention_layer(sample_output[:,-1],sample_output)\n",
        "\n",
        "print(\"Attention result shape: (batch size, units) {}\".format(attention_result.shape))\n",
        "print(\"Attention weights shape: (batch_size, sequence_length, 1) {}\".format(attention_weights.shape))"
      ],
      "execution_count": null,
      "outputs": [
        {
          "output_type": "stream",
          "text": [
            "Attention result shape: (batch size, units) (64, 2048)\n",
            "Attention weights shape: (batch_size, sequence_length, 1) (64, 30, 1)\n"
          ],
          "name": "stdout"
        }
      ]
    },
    {
      "cell_type": "code",
      "metadata": {
        "id": "VH60StMqyMeN",
        "colab_type": "code",
        "colab": {}
      },
      "source": [
        "class Decoder(tf.keras.Model):\n",
        "  def __init__(self, vocab_size, embedding_dim, dec_units, batch_sz):\n",
        "    \n",
        "    super(Decoder, self).__init__()\n",
        "\n",
        "    self.batch_sz = batch_sz\n",
        "\n",
        "    self.dec_units = dec_units\n",
        "\n",
        "    self.embedding = tf.keras.layers.Embedding(vocab_size, embedding_dim)\n",
        "\n",
        "    self.LSTM = tf.keras.layers.LSTM(self.dec_units,\n",
        "                                   return_sequences=True,\n",
        "                                   return_state=True)\n",
        "    \n",
        "    self.fc = tf.keras.layers.Dense(vocab_size)\n",
        "\n",
        "    self.attention = BahdanauAttention(self.dec_units)\n",
        "\n",
        "  def call(self, x, hidden, enc_output):\n",
        "\n",
        "    context_vector, attention_weights = self.attention(hidden, enc_output)\n",
        "\n",
        "    x = self.embedding(x)\n",
        "\n",
        "    x = tf.concat([tf.expand_dims(context_vector, 1), x], axis=-1)\n",
        "\n",
        "    output, state_h, state_c = self.LSTM(x)\n",
        "\n",
        "    output = tf.reshape(output, (-1, output.shape[2]))\n",
        "\n",
        "    state = [state_h, state_c]\n",
        "\n",
        "    x = self.fc(output)\n",
        "\n",
        "    return x, state_h, attention_weights"
      ],
      "execution_count": null,
      "outputs": []
    },
    {
      "cell_type": "code",
      "metadata": {
        "id": "WKb5wF_XyQA8",
        "colab_type": "code",
        "colab": {
          "base_uri": "https://localhost:8080/",
          "height": 50
        },
        "outputId": "ef06bd21-ba5f-41ea-d39e-674259cddb3c"
      },
      "source": [
        "vocab_size = top_k + 1\n",
        "embedding_dim = 256\n",
        "units = 2048\n",
        "decoder = Decoder(vocab_size, embedding_dim, units, BATCH_SIZE)\n",
        "\n",
        "sample_decoder_output, hidden , _ = decoder(tf.random.uniform((BATCH_SIZE, 1)),sample_output[:,-1], sample_output)\n",
        "\n",
        "print ('Decoder output shape: (batch_size, vocab size) {}'.format(sample_decoder_output.shape))\n",
        "print ('Decoder state shape: (batch_size, vocab size) {}'.format(hidden.shape))"
      ],
      "execution_count": null,
      "outputs": [
        {
          "output_type": "stream",
          "text": [
            "Decoder output shape: (batch_size, vocab size) (64, 10001)\n",
            "Decoder state shape: (batch_size, vocab size) (64, 2048)\n"
          ],
          "name": "stdout"
        }
      ]
    },
    {
      "cell_type": "code",
      "metadata": {
        "id": "7wKfOzHrJMBo",
        "colab_type": "code",
        "colab": {}
      },
      "source": [
        "optimizer = tf.keras.optimizers.Adam()\n",
        "loss_object = tf.keras.losses.SparseCategoricalCrossentropy(\n",
        "    from_logits=True, reduction='none')\n",
        "\n",
        "def loss_function(real, pred):\n",
        "  mask = tf.math.logical_not(tf.math.equal(real, 0))\n",
        "  loss_ = loss_object(real, pred)\n",
        "\n",
        "  mask = tf.cast(mask, dtype=loss_.dtype)\n",
        "  loss_ *= mask\n",
        "\n",
        "  return tf.reduce_mean(loss_)"
      ],
      "execution_count": null,
      "outputs": []
    },
    {
      "cell_type": "code",
      "metadata": {
        "id": "jJZIHeBYo7Y_",
        "colab_type": "code",
        "colab": {
          "base_uri": "https://localhost:8080/",
          "height": 138
        },
        "outputId": "20cb3952-4805-41e6-c39e-78ac4048428e"
      },
      "source": [
        "checkpoint_path = \"/content/drive/My Drive/Colab Notebooks/CV_Project/Saved_Models/checkpoints\"\n",
        "ckpt = tf.train.Checkpoint(encoder=encoder,\n",
        "                           decoder=decoder,\n",
        "                           optimizer = optimizer)\n",
        "ckpt_manager = tf.train.CheckpointManager(ckpt, checkpoint_path, max_to_keep=20)"
      ],
      "execution_count": null,
      "outputs": [
        {
          "output_type": "stream",
          "text": [
            "WARNING:tensorflow:Unresolved object in checkpoint: (root).optimizer.iter\n",
            "WARNING:tensorflow:Unresolved object in checkpoint: (root).optimizer.beta_1\n",
            "WARNING:tensorflow:Unresolved object in checkpoint: (root).optimizer.beta_2\n",
            "WARNING:tensorflow:Unresolved object in checkpoint: (root).optimizer.decay\n",
            "WARNING:tensorflow:Unresolved object in checkpoint: (root).optimizer.learning_rate\n",
            "WARNING:tensorflow:A checkpoint was restored (e.g. tf.train.Checkpoint.restore or tf.keras.Model.load_weights) but not all checkpointed values were used. See above for specific issues. Use expect_partial() on the load status object, e.g. tf.train.Checkpoint.restore(...).expect_partial(), to silence these warnings, or use assert_consumed() to make the check explicit. See https://www.tensorflow.org/guide/checkpoint#loading_mechanics for details.\n"
          ],
          "name": "stdout"
        }
      ]
    },
    {
      "cell_type": "code",
      "metadata": {
        "id": "CjXgg5vto8aO",
        "colab_type": "code",
        "colab": {}
      },
      "source": [
        "start_epoch = 0\n",
        "if ckpt_manager.latest_checkpoint:\n",
        "  start_epoch = int(ckpt_manager.latest_checkpoint.split('-')[-1])\n",
        "  ckpt.restore(ckpt_manager.latest_checkpoint)"
      ],
      "execution_count": null,
      "outputs": []
    },
    {
      "cell_type": "code",
      "metadata": {
        "id": "Q5nn7knng7HM",
        "colab_type": "code",
        "colab": {
          "base_uri": "https://localhost:8080/",
          "height": 34
        },
        "outputId": "f1e78bdf-8d4a-4a99-99de-581ad3de6e18"
      },
      "source": [
        "start_epoch"
      ],
      "execution_count": null,
      "outputs": [
        {
          "output_type": "execute_result",
          "data": {
            "text/plain": [
              "20"
            ]
          },
          "metadata": {
            "tags": []
          },
          "execution_count": 68
        }
      ]
    },
    {
      "cell_type": "code",
      "metadata": {
        "id": "2Fa5sF3d5QoU",
        "colab_type": "code",
        "colab": {}
      },
      "source": [
        "@tf.function\n",
        "def train_step(inp, targ, enc_hidden):\n",
        "  loss = 0\n",
        "\n",
        "  with tf.GradientTape() as tape:\n",
        "    enc_output= encoder(inp, enc_hidden)\n",
        "    hidden = enc_output[:,-1]\n",
        "    dec_input = tf.expand_dims([tokenizer.word_index['<start>']] * BATCH_SIZE, 1)\n",
        "\n",
        "    for t in range(1, targ.shape[1]):\n",
        "      \n",
        "      predictions, hidden, _ = decoder(dec_input, hidden, enc_output)\n",
        "\n",
        "      loss += loss_function(targ[:, t], predictions)\n",
        "\n",
        "      dec_input = tf.expand_dims(targ[:, t], 1)\n",
        "\n",
        "  batch_loss = (loss / int(targ.shape[1]))\n",
        "\n",
        "  variables = encoder.trainable_variables + decoder.trainable_variables\n",
        "\n",
        "  gradients = tape.gradient(loss, variables)\n",
        "\n",
        "  optimizer.apply_gradients(zip(gradients, variables))\n",
        "\n",
        "  return batch_loss\n"
      ],
      "execution_count": null,
      "outputs": []
    },
    {
      "cell_type": "code",
      "metadata": {
        "id": "BVLlBjW2wRl1",
        "colab_type": "code",
        "colab": {}
      },
      "source": [
        "from tqdm import notebook\n",
        "import time\n",
        "EPOCHS = 20\n",
        "\n",
        "for epoch in range(start_epoch, EPOCHS):\n",
        "  start = time.time()\n",
        "\n",
        "  enc_hidden = encoder.initialize_hidden_state(BATCH_SIZE)\n",
        "  total_loss = 0\n",
        "\n",
        "  for (batch, (inp, targ)) in notebook.tqdm(enumerate(dataset.take(steps_per_epoch))):\n",
        "    batch_loss = train_step(inp, targ, enc_hidden)\n",
        "    total_loss += batch_loss\n",
        "\n",
        "    if batch % 30 == 0:\n",
        "      print('Epoch {} Batch {} Loss {:.4f}'.format(epoch + 1,\n",
        "                                                   batch,\n",
        "                                                   batch_loss.numpy()))\n",
        "  ckpt_manager.save()\n",
        "  print('Epoch {} Loss {:.4f}'.format(epoch + 1,\n",
        "                                      total_loss / steps_per_epoch))\n",
        "  print('Time taken for 1 epoch {} sec\\n'.format(time.time() - start))"
      ],
      "execution_count": null,
      "outputs": []
    },
    {
      "cell_type": "code",
      "metadata": {
        "id": "zZA_ywWW9Xr6",
        "colab_type": "code",
        "colab": {}
      },
      "source": [
        "tf.random.set_seed(10)\n",
        "def evaluate(video,max_length):\n",
        "    video = tf.convert_to_tensor(video)\n",
        "    enc_hidden = encoder.initialize_hidden_state(1)\n",
        "    features = encoder(video,enc_hidden)\n",
        "    hidden = features[:,-1]\n",
        "    dec_input = tf.expand_dims([tokenizer.word_index['<start>']], 1)\n",
        "    result = []\n",
        "\n",
        "    for i in range(max_length):\n",
        "        dec_input, hidden, attention_weights = decoder(dec_input, hidden, features)\n",
        "        dec_input = tf.random.categorical(dec_input, 1).numpy()\n",
        "        result.append(tokenizer.index_word[dec_input[0].item()])\n",
        "\n",
        "        if tokenizer.index_word[dec_input[0].item()] == '<end>':\n",
        "            return ' '.join(result[:-1])\n",
        "\n",
        "    return ' '.join(result)"
      ],
      "execution_count": null,
      "outputs": []
    },
    {
      "cell_type": "code",
      "metadata": {
        "id": "0K0v4kdiGt8C",
        "colab_type": "code",
        "colab": {
          "base_uri": "https://localhost:8080/",
          "height": 810
        },
        "outputId": "5e530454-36e1-483a-960a-9a84a487cf2c"
      },
      "source": [
        "for i in range(10):\n",
        "  rid = np.random.randint(0,10000)\n",
        "  video = np.zeros(shape = (1,30,4096))\n",
        "  video[0]=video_vector[rid]\n",
        "  real_caption = ' '.join([tokenizer.index_word[i] for i in cap_vector[rid] if i not in [0]][1:-1])\n",
        "  result = evaluate(video,39)\n",
        "\n",
        "  print ('Real Caption:', real_caption)\n",
        "  print ('Prediction Caption:', result)\n",
        "  print('Video Name:',name[rid])\n",
        "  print()"
      ],
      "execution_count": null,
      "outputs": [
        {
          "output_type": "stream",
          "text": [
            "WARNING:tensorflow:Layer encoder_1 is casting an input tensor from dtype float64 to the layer's dtype of float32, which is new behavior in TensorFlow 2.  The layer has dtype float32 because it's dtype defaults to floatx.\n",
            "\n",
            "If you intended to run this layer in float32, you can safely ignore this warning. If in doubt, this warning is likely only an issue if you are porting a TensorFlow 1.X model to TensorFlow 2.\n",
            "\n",
            "To change all layers to have dtype float64 by default, call `tf.keras.backend.set_floatx('float64')`. To change just this layer, pass dtype='float64' to the layer constructor. If you are the author of this layer, you can disable autocasting by passing autocast=False to the base Layer constructor.\n",
            "\n",
            "Real Caption: a person is slicing a stack of tortillas\n",
            "Prediction Caption: a person is prepair jusee\n",
            "Video Name: j2Dhf-xFUxU\n",
            "\n",
            "Real Caption: men in uniforms are marching down the road\n",
            "Prediction Caption: a group is marching on trampolines\n",
            "Video Name: s7znbqra118\n",
            "\n",
            "Real Caption: the gang of people are perfoming\n",
            "Prediction Caption: the band is performing onstage\n",
            "Video Name: bJJndejsUWc\n",
            "\n",
            "Real Caption: a boy putting a flat rock into his mouth\n",
            "Prediction Caption: a young man removes the something\n",
            "Video Name: r4qv_BNlQNk\n",
            "\n",
            "Real Caption: water put to boil on a cooking range\n",
            "Prediction Caption: the woman makes a kettle\n",
            "Video Name: NjCqtzZ3OtU\n",
            "\n",
            "Real Caption: two men are flying a remote controlled plane\n",
            "Prediction Caption: two men flew a model airplane\n",
            "Video Name: aHiUM8uWxxo\n",
            "\n",
            "Real Caption: a man had his dog face the camera and wave\n",
            "Prediction Caption: a man is doing the camera milk\n",
            "Video Name: O06WXS_XZN0\n",
            "\n",
            "Real Caption: a beagle is peeing off the edge of a boat\n",
            "Prediction Caption: a driver like a jump into the air\n",
            "Video Name: QzcTlEpAigQ\n",
            "\n",
            "Real Caption: someone is stirring a kettle of soup with metal tongs\n",
            "Prediction Caption: someone is stirring chili in a kettle\n",
            "Video Name: KPPCwmU5OHQ\n",
            "\n",
            "Real Caption: a woman is peeling a mango\n",
            "Prediction Caption: the person is peeling a mango\n",
            "Video Name: mFCf8lLXrUc\n",
            "\n"
          ],
          "name": "stdout"
        }
      ]
    },
    {
      "cell_type": "code",
      "metadata": {
        "id": "hTdEAaKQnm-2",
        "colab_type": "code",
        "colab": {}
      },
      "source": [
        "references = []\n",
        "hypothesis = [] "
      ],
      "execution_count": null,
      "outputs": []
    },
    {
      "cell_type": "code",
      "metadata": {
        "id": "E2fhOQkLhEok",
        "colab_type": "code",
        "colab": {
          "base_uri": "https://localhost:8080/",
          "height": 66,
          "referenced_widgets": [
            "8bca1ba11e9a46f5b07c3487b218e739",
            "77995ce978024a2e822eb7427ce5cd46",
            "c2eab07de6944e718ac0aaffb04f1e76",
            "67a342a9bbba46faafd807e76d1b8424",
            "be65cec1ca9d42a59cc05c0ffc77b5bf",
            "be250afb21d2406290f7b7dfc0fea777",
            "1ca052ed10b44780a84eb2d19e16745a",
            "55e1d310e87441d0a3e02f973f0f4a4c"
          ]
        },
        "outputId": "596c182b-6202-4981-ba74-9c36c3290c5d"
      },
      "source": [
        "for j in notebook.tqdm(range(len(references),2000)):\n",
        "  video = np.zeros(shape = (1,30,4096))\n",
        "  video[0] = video_val[j]\n",
        "  h = evaluate(video,39)\n",
        "  references.append(' '.join([tokenizer.index_word[i] for i in cap_val[j] if i not in [0]][1:-1]))\n",
        "  hypothesis.append(h)"
      ],
      "execution_count": null,
      "outputs": [
        {
          "output_type": "display_data",
          "data": {
            "application/vnd.jupyter.widget-view+json": {
              "model_id": "8bca1ba11e9a46f5b07c3487b218e739",
              "version_minor": 0,
              "version_major": 2
            },
            "text/plain": [
              "HBox(children=(FloatProgress(value=0.0, max=1000.0), HTML(value='')))"
            ]
          },
          "metadata": {
            "tags": []
          }
        },
        {
          "output_type": "stream",
          "text": [
            "\n"
          ],
          "name": "stdout"
        }
      ]
    },
    {
      "cell_type": "code",
      "metadata": {
        "id": "PjJkYEN3Glbd",
        "colab_type": "code",
        "colab": {
          "base_uri": "https://localhost:8080/",
          "height": 151
        },
        "outputId": "b638f546-b793-4e04-e89e-1574cf71c9d1"
      },
      "source": [
        "from nltk.translate.bleu_score import corpus_bleu\n",
        "print('BLEU-1: %f' % corpus_bleu(references, hypothesis, weights=(1.0, 0, 0, 0)))\n",
        "print('BLEU-2: %f' % corpus_bleu(references, hypothesis, weights=(0.5, 0.5, 0, 0)))\n",
        "print('BLEU-3: %f' % corpus_bleu(references, hypothesis, weights=(0.3, 0.3, 0.3, 0)))\n",
        "print('BLEU-4: %f' % corpus_bleu(references, hypothesis, weights=(0.25, 0.25, 0.25, 0.25)))"
      ],
      "execution_count": null,
      "outputs": [
        {
          "output_type": "stream",
          "text": [
            "/usr/local/lib/python3.6/dist-packages/nltk/translate/bleu_score.py:490: UserWarning: \n",
            "Corpus/Sentence contains 0 counts of 2-gram overlaps.\n",
            "BLEU scores might be undesirable; use SmoothingFunction().\n",
            "  warnings.warn(_msg)\n"
          ],
          "name": "stderr"
        },
        {
          "output_type": "stream",
          "text": [
            "BLEU-1: 0.333395\n",
            "BLEU-2: 0.577404\n",
            "BLEU-3: 0.719263\n",
            "BLEU-4: 0.759871\n"
          ],
          "name": "stdout"
        }
      ]
    },
    {
      "cell_type": "code",
      "metadata": {
        "id": "H9OuL0gWiCcV",
        "colab_type": "code",
        "colab": {
          "base_uri": "https://localhost:8080/",
          "height": 151
        },
        "outputId": "7ca2e7bf-c261-4a62-8461-a3600a48fc94"
      },
      "source": [
        "from nltk.translate.bleu_score import corpus_bleu\n",
        "print('BLEU-1: %f' % corpus_bleu(references, hypothesis, weights=(1.0, 0, 0, 0)))\n",
        "print('BLEU-2: %f' % corpus_bleu(references, hypothesis, weights=(0.5, 0.5, 0, 0)))\n",
        "print('BLEU-3: %f' % corpus_bleu(references, hypothesis, weights=(0.3, 0.3, 0.3, 0)))\n",
        "print('BLEU-4: %f' % corpus_bleu(references, hypothesis, weights=(0.25, 0.25, 0.25, 0.25)))"
      ],
      "execution_count": null,
      "outputs": [
        {
          "output_type": "stream",
          "text": [
            "/usr/local/lib/python3.6/dist-packages/nltk/translate/bleu_score.py:490: UserWarning: \n",
            "Corpus/Sentence contains 0 counts of 2-gram overlaps.\n",
            "BLEU scores might be undesirable; use SmoothingFunction().\n",
            "  warnings.warn(_msg)\n"
          ],
          "name": "stderr"
        },
        {
          "output_type": "stream",
          "text": [
            "BLEU-1: 0.355469\n",
            "BLEU-2: 0.596212\n",
            "BLEU-3: 0.733230\n",
            "BLEU-4: 0.772148\n"
          ],
          "name": "stdout"
        }
      ]
    },
    {
      "cell_type": "code",
      "metadata": {
        "id": "RUbepxeO30-6",
        "colab_type": "code",
        "colab": {
          "base_uri": "https://localhost:8080/",
          "height": 34
        },
        "outputId": "e10c09e7-ae23-4f38-a2d7-d58ef0609509"
      },
      "source": [
        "import math\n",
        "def bleu_score(references, hypothesis):\n",
        "  r = references.split(' ')\n",
        "  h = hypothesis.split(' ')\n",
        "  brevity_penalty = min(1,math.exp(1-len(r)/len(h)))\n",
        "  n_gram_overlap = 1\n",
        "  precision = [0]*4\n",
        "  for n in range(1,5):\n",
        "    if len(h)<n:\n",
        "      break\n",
        "    count = 0\n",
        "    ngram = []\n",
        "    th = []\n",
        "    for i in range(len(r)-n+1):\n",
        "      ngram.append(' '.join(r[i:i+n]))\n",
        "    for i in range(len(h)-n+1):\n",
        "      th.append(' '.join(h[i:i+n]))\n",
        "\n",
        "\n",
        "    ngram = list(dict.fromkeys(ngram))\n",
        "    for i in range(len(ngram)):\n",
        "      a = min(ngram.count(ngram[i]),th.count(ngram[i]))\n",
        "      count = count + a\n",
        "    precision[n-1] = count/(len(h)-n+1)\n",
        "    n_gram_overlap *= precision[n-1]\n",
        "    # print('precision',n,precision[n-1])\n",
        "  bleu = brevity_penalty * n_gram_overlap**0.25\n",
        "  # print('BLEU Score :',bleu)\n",
        "  return precision[0],  precision[1], precision[2], precision[3], bleu\n",
        "  \n",
        "\n",
        "print(bleu_score('The NASA Opportunity rover is battling a massive dust storm on Mars .','A NASA rover is fighting a massive storm on Mars .'))"
      ],
      "execution_count": null,
      "outputs": [
        {
          "output_type": "stream",
          "text": [
            "(0.8181818181818182, 0.5, 0.2222222222222222, 0.125, 0.27221791225495623)\n"
          ],
          "name": "stdout"
        }
      ]
    },
    {
      "cell_type": "code",
      "metadata": {
        "id": "0bLEbwdI5hEO",
        "colab_type": "code",
        "colab": {
          "base_uri": "https://localhost:8080/",
          "height": 34
        },
        "outputId": "64fe3548-8af9-4f58-b00a-6ccc55aa3d6e"
      },
      "source": [
        "bleu_score(references[33],hypothesis[33])"
      ],
      "execution_count": null,
      "outputs": [
        {
          "output_type": "execute_result",
          "data": {
            "text/plain": [
              "(0.4166666666666667, 0.2727272727272727, 0.1, 0.0, 0.0)"
            ]
          },
          "metadata": {
            "tags": []
          },
          "execution_count": 29
        }
      ]
    },
    {
      "cell_type": "code",
      "metadata": {
        "id": "djh0nTQBELNq",
        "colab_type": "code",
        "colab": {}
      },
      "source": [
        "def bleu(r, h):\n",
        "  p = [0]*4\n",
        "  b = 0\n",
        "  count = len(r)\n",
        "  for i in range(len(r)):\n",
        "    p1, p2, p3, p4, bt = bleu_score(r[i],h[i])\n",
        "    p[0] += p1\n",
        "    p[1] += p2\n",
        "    p[2] += p3\n",
        "    p[3] += p4\n",
        "    if bt == 0:\n",
        "      count -= 1\n",
        "    else :\n",
        "      b += bt\n",
        "  return p[0]/len(r), p[1]/len(r), p[2]/len(r), p[3]/len(r), b/count\n",
        "\n",
        "p1, p2, p3, p4 ,b = bleu(references, hypothesis)"
      ],
      "execution_count": null,
      "outputs": []
    },
    {
      "cell_type": "code",
      "metadata": {
        "id": "I8tGA87LWiAq",
        "colab_type": "code",
        "colab": {
          "base_uri": "https://localhost:8080/",
          "height": 101
        },
        "outputId": "0221934a-b64b-471d-baf3-adbf7a2d12f1"
      },
      "source": [
        "print('Precision 1(1 gram) :',p1)\n",
        "print('Precision 2(2 gram) :',p2)\n",
        "print('Precision 3(3 gram) :',p3)\n",
        "print('Precision 4(4 gram) :',p4)\n",
        "print('BLEU Score :',b)"
      ],
      "execution_count": null,
      "outputs": [
        {
          "output_type": "stream",
          "text": [
            "Precision 1(1 gram) : 0.3470023554876495\n",
            "Precision 2(2 gram) : 0.1364990981240981\n",
            "Precision 3(3 gram) : 0.07230952380952382\n",
            "Precision 4(4 gram) : 0.04366666666666666\n",
            "BLEU Score : 0.6072045428935147\n"
          ],
          "name": "stdout"
        }
      ]
    },
    {
      "cell_type": "code",
      "metadata": {
        "id": "A7rThT3l7k8d",
        "colab_type": "code",
        "colab": {}
      },
      "source": [
        ""
      ],
      "execution_count": null,
      "outputs": []
    }
  ]
}