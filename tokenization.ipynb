{
  "nbformat": 4,
  "nbformat_minor": 0,
  "metadata": {
    "kernelspec": {
      "name": "python3",
      "display_name": "Python 3"
    },
    "language_info": {
      "codemirror_mode": {
        "name": "ipython",
        "version": 3
      },
      "file_extension": ".py",
      "mimetype": "text/x-python",
      "name": "python",
      "nbconvert_exporter": "python",
      "pygments_lexer": "ipython3",
      "version": "3.6.8"
    },
    "colab": {
      "name": "tokenization.ipynb",
      "provenance": [],
      "collapsed_sections": [],
      "machine_shape": "hm",
      "include_colab_link": true
    },
    "accelerator": "GPU"
  },
  "cells": [
    {
      "cell_type": "markdown",
      "metadata": {
        "id": "view-in-github",
        "colab_type": "text"
      },
      "source": [
        "<a href=\"https://colab.research.google.com/github/VSSARATHI/Video-Captioning-Using-Attention-based-Bi-directional-LSTM/blob/master/tokenization.ipynb\" target=\"_parent\"><img src=\"https://colab.research.google.com/assets/colab-badge.svg\" alt=\"Open In Colab\"/></a>"
      ]
    },
    {
      "cell_type": "code",
      "metadata": {
        "id": "OHxqkXefXrCr",
        "colab_type": "code",
        "colab": {}
      },
      "source": [
        "import os\n",
        "%tensorflow_version 2.x\n",
        "import tensorflow as tf"
      ],
      "execution_count": null,
      "outputs": []
    },
    {
      "cell_type": "code",
      "metadata": {
        "id": "RW4TpESe5WdR",
        "colab_type": "code",
        "colab": {
          "base_uri": "https://localhost:8080/",
          "height": 121
        },
        "outputId": "7ddf8e8a-f807-4e80-ffdb-8da83a09d537"
      },
      "source": [
        "from google.colab import drive\n",
        "drive.mount('/content/drive')"
      ],
      "execution_count": null,
      "outputs": [
        {
          "output_type": "stream",
          "text": [
            "Go to this URL in a browser: https://accounts.google.com/o/oauth2/auth?client_id=947318989803-6bn6qk8qdgf4n4g3pfee6491hc0brc4i.apps.googleusercontent.com&redirect_uri=urn%3aietf%3awg%3aoauth%3a2.0%3aoob&response_type=code&scope=email%20https%3a%2f%2fwww.googleapis.com%2fauth%2fdocs.test%20https%3a%2f%2fwww.googleapis.com%2fauth%2fdrive%20https%3a%2f%2fwww.googleapis.com%2fauth%2fdrive.photos.readonly%20https%3a%2f%2fwww.googleapis.com%2fauth%2fpeopleapi.readonly\n",
            "\n",
            "Enter your authorization code:\n",
            "··········\n",
            "Mounted at /content/drive\n"
          ],
          "name": "stdout"
        }
      ]
    },
    {
      "cell_type": "code",
      "metadata": {
        "id": "25cUCf4a4qBY",
        "colab_type": "code",
        "colab": {}
      },
      "source": [
        "import numpy as np\n",
        "import pandas as pd"
      ],
      "execution_count": null,
      "outputs": []
    },
    {
      "cell_type": "code",
      "metadata": {
        "id": "BU2s2Ham4qBg",
        "colab_type": "code",
        "colab": {
          "base_uri": "https://localhost:8080/",
          "height": 195
        },
        "outputId": "dcb96595-deff-42fb-a4a3-5a66b23f0042"
      },
      "source": [
        "dataframe = pd.read_csv(\"/content/drive/My Drive/Colab Notebooks/CV_Project/data.csv\", encoding= 'unicode_escape')\n",
        "dataframe.head()"
      ],
      "execution_count": null,
      "outputs": [
        {
          "output_type": "execute_result",
          "data": {
            "text/html": [
              "<div>\n",
              "<style scoped>\n",
              "    .dataframe tbody tr th:only-of-type {\n",
              "        vertical-align: middle;\n",
              "    }\n",
              "\n",
              "    .dataframe tbody tr th {\n",
              "        vertical-align: top;\n",
              "    }\n",
              "\n",
              "    .dataframe thead th {\n",
              "        text-align: right;\n",
              "    }\n",
              "</style>\n",
              "<table border=\"1\" class=\"dataframe\">\n",
              "  <thead>\n",
              "    <tr style=\"text-align: right;\">\n",
              "      <th></th>\n",
              "      <th>VideoID</th>\n",
              "      <th>Start</th>\n",
              "      <th>End</th>\n",
              "      <th>WorkerID</th>\n",
              "      <th>Source</th>\n",
              "      <th>AnnotationTime</th>\n",
              "      <th>Language</th>\n",
              "      <th>Description</th>\n",
              "    </tr>\n",
              "  </thead>\n",
              "  <tbody>\n",
              "    <tr>\n",
              "      <th>0</th>\n",
              "      <td>NaN</td>\n",
              "      <td>NaN</td>\n",
              "      <td>NaN</td>\n",
              "      <td>NaN</td>\n",
              "      <td>NaN</td>\n",
              "      <td>NaN</td>\n",
              "      <td>NaN</td>\n",
              "      <td>NaN</td>\n",
              "    </tr>\n",
              "    <tr>\n",
              "      <th>1</th>\n",
              "      <td>mv89psg6zh4</td>\n",
              "      <td>33.0</td>\n",
              "      <td>46.0</td>\n",
              "      <td>588702.0</td>\n",
              "      <td>unverified</td>\n",
              "      <td>55.0</td>\n",
              "      <td>Slovene</td>\n",
              "      <td>Papagaj se umiva pod tekoo vodo v lijaku.</td>\n",
              "    </tr>\n",
              "    <tr>\n",
              "      <th>2</th>\n",
              "      <td>NaN</td>\n",
              "      <td>NaN</td>\n",
              "      <td>NaN</td>\n",
              "      <td>NaN</td>\n",
              "      <td>NaN</td>\n",
              "      <td>NaN</td>\n",
              "      <td>NaN</td>\n",
              "      <td>NaN</td>\n",
              "    </tr>\n",
              "    <tr>\n",
              "      <th>3</th>\n",
              "      <td>mv89psg6zh4</td>\n",
              "      <td>33.0</td>\n",
              "      <td>46.0</td>\n",
              "      <td>588702.0</td>\n",
              "      <td>unverified</td>\n",
              "      <td>37.0</td>\n",
              "      <td>Slovene</td>\n",
              "      <td>Papagaj se umiva pod tekoo vodo v lijaku.</td>\n",
              "    </tr>\n",
              "    <tr>\n",
              "      <th>4</th>\n",
              "      <td>NaN</td>\n",
              "      <td>NaN</td>\n",
              "      <td>NaN</td>\n",
              "      <td>NaN</td>\n",
              "      <td>NaN</td>\n",
              "      <td>NaN</td>\n",
              "      <td>NaN</td>\n",
              "      <td>NaN</td>\n",
              "    </tr>\n",
              "  </tbody>\n",
              "</table>\n",
              "</div>"
            ],
            "text/plain": [
              "       VideoID  Start  ...  Language                                  Description\n",
              "0          NaN    NaN  ...       NaN                                          NaN\n",
              "1  mv89psg6zh4   33.0  ...   Slovene  Papagaj se umiva pod tekoo vodo v lijaku.\n",
              "2          NaN    NaN  ...       NaN                                          NaN\n",
              "3  mv89psg6zh4   33.0  ...   Slovene  Papagaj se umiva pod tekoo vodo v lijaku.\n",
              "4          NaN    NaN  ...       NaN                                          NaN\n",
              "\n",
              "[5 rows x 8 columns]"
            ]
          },
          "metadata": {
            "tags": []
          },
          "execution_count": 4
        }
      ]
    },
    {
      "cell_type": "code",
      "metadata": {
        "id": "O1IUeiP44qBl",
        "colab_type": "code",
        "colab": {
          "base_uri": "https://localhost:8080/",
          "height": 195
        },
        "outputId": "603a7d6a-1900-4f3d-f431-8b20a39dd4f4"
      },
      "source": [
        "d = dataframe[dataframe['Language']=='English']\n",
        "d.head()"
      ],
      "execution_count": null,
      "outputs": [
        {
          "output_type": "execute_result",
          "data": {
            "text/html": [
              "<div>\n",
              "<style scoped>\n",
              "    .dataframe tbody tr th:only-of-type {\n",
              "        vertical-align: middle;\n",
              "    }\n",
              "\n",
              "    .dataframe tbody tr th {\n",
              "        vertical-align: top;\n",
              "    }\n",
              "\n",
              "    .dataframe thead th {\n",
              "        text-align: right;\n",
              "    }\n",
              "</style>\n",
              "<table border=\"1\" class=\"dataframe\">\n",
              "  <thead>\n",
              "    <tr style=\"text-align: right;\">\n",
              "      <th></th>\n",
              "      <th>VideoID</th>\n",
              "      <th>Start</th>\n",
              "      <th>End</th>\n",
              "      <th>WorkerID</th>\n",
              "      <th>Source</th>\n",
              "      <th>AnnotationTime</th>\n",
              "      <th>Language</th>\n",
              "      <th>Description</th>\n",
              "    </tr>\n",
              "  </thead>\n",
              "  <tbody>\n",
              "    <tr>\n",
              "      <th>37</th>\n",
              "      <td>mv89psg6zh4</td>\n",
              "      <td>33.0</td>\n",
              "      <td>46.0</td>\n",
              "      <td>682611.0</td>\n",
              "      <td>clean</td>\n",
              "      <td>66.0</td>\n",
              "      <td>English</td>\n",
              "      <td>A bird in a sink keeps getting under the runni...</td>\n",
              "    </tr>\n",
              "    <tr>\n",
              "      <th>39</th>\n",
              "      <td>mv89psg6zh4</td>\n",
              "      <td>33.0</td>\n",
              "      <td>46.0</td>\n",
              "      <td>760882.0</td>\n",
              "      <td>clean</td>\n",
              "      <td>16.0</td>\n",
              "      <td>English</td>\n",
              "      <td>A bird is bathing in a sink.</td>\n",
              "    </tr>\n",
              "    <tr>\n",
              "      <th>41</th>\n",
              "      <td>mv89psg6zh4</td>\n",
              "      <td>33.0</td>\n",
              "      <td>46.0</td>\n",
              "      <td>878566.0</td>\n",
              "      <td>clean</td>\n",
              "      <td>76.0</td>\n",
              "      <td>English</td>\n",
              "      <td>A bird is splashing around under a running fau...</td>\n",
              "    </tr>\n",
              "    <tr>\n",
              "      <th>43</th>\n",
              "      <td>mv89psg6zh4</td>\n",
              "      <td>33.0</td>\n",
              "      <td>46.0</td>\n",
              "      <td>707318.0</td>\n",
              "      <td>clean</td>\n",
              "      <td>14.0</td>\n",
              "      <td>English</td>\n",
              "      <td>A bird is bathing in a sink.</td>\n",
              "    </tr>\n",
              "    <tr>\n",
              "      <th>45</th>\n",
              "      <td>mv89psg6zh4</td>\n",
              "      <td>33.0</td>\n",
              "      <td>46.0</td>\n",
              "      <td>135621.0</td>\n",
              "      <td>clean</td>\n",
              "      <td>58.0</td>\n",
              "      <td>English</td>\n",
              "      <td>A bird is standing in a sink drinking water th...</td>\n",
              "    </tr>\n",
              "  </tbody>\n",
              "</table>\n",
              "</div>"
            ],
            "text/plain": [
              "        VideoID  ...                                        Description\n",
              "37  mv89psg6zh4  ...  A bird in a sink keeps getting under the runni...\n",
              "39  mv89psg6zh4  ...                       A bird is bathing in a sink.\n",
              "41  mv89psg6zh4  ...  A bird is splashing around under a running fau...\n",
              "43  mv89psg6zh4  ...                       A bird is bathing in a sink.\n",
              "45  mv89psg6zh4  ...  A bird is standing in a sink drinking water th...\n",
              "\n",
              "[5 rows x 8 columns]"
            ]
          },
          "metadata": {
            "tags": []
          },
          "execution_count": 5
        }
      ]
    },
    {
      "cell_type": "code",
      "metadata": {
        "id": "9Sl9ueJb4qBp",
        "colab_type": "code",
        "colab": {}
      },
      "source": [
        "d=d.loc[:,['VideoID','Description']]"
      ],
      "execution_count": null,
      "outputs": []
    },
    {
      "cell_type": "code",
      "metadata": {
        "id": "GEuNecWC4qBu",
        "colab_type": "code",
        "colab": {}
      },
      "source": [
        "d1=d.values.tolist()"
      ],
      "execution_count": null,
      "outputs": []
    },
    {
      "cell_type": "code",
      "metadata": {
        "id": "348GXoeO4qBy",
        "colab_type": "code",
        "colab": {}
      },
      "source": [
        "tokens = np.matrix(d1,dtype=np.str)"
      ],
      "execution_count": null,
      "outputs": []
    },
    {
      "cell_type": "code",
      "metadata": {
        "id": "UjHxj3RM4qB3",
        "colab_type": "code",
        "colab": {
          "base_uri": "https://localhost:8080/",
          "height": 185
        },
        "outputId": "b943c189-bf7d-403c-e419-f7e31fc5f017"
      },
      "source": [
        "tokens"
      ],
      "execution_count": null,
      "outputs": [
        {
          "output_type": "execute_result",
          "data": {
            "text/plain": [
              "matrix([['mv89psg6zh4',\n",
              "         'A bird in a sink keeps getting under the running water from a faucet.'],\n",
              "        ['mv89psg6zh4', 'A bird is bathing in a sink.'],\n",
              "        ['mv89psg6zh4',\n",
              "         'A bird is splashing around under a running faucet.'],\n",
              "        ...,\n",
              "        ['m7x8uIdg2XU', 'The lady added a cream sauce to the pasta.'],\n",
              "        ['m7x8uIdg2XU', 'women are cooking her kichen'],\n",
              "        ['m7x8uIdg2XU', 'The woman is pouring cream over the pasta.']],\n",
              "       dtype='<U742')"
            ]
          },
          "metadata": {
            "tags": []
          },
          "execution_count": 9
        }
      ]
    },
    {
      "cell_type": "code",
      "metadata": {
        "id": "kpah57Iy4qB8",
        "colab_type": "code",
        "colab": {}
      },
      "source": [
        "def preprocess_sentence(w):\n",
        "    w = unicode_to_ascii(w.lower().strip())\n",
        "\n",
        "    # creating a space between a word and the punctuation following it\n",
        "    # eg: \"he is a boy.\" => \"he is a boy .\"\n",
        "    w = re.sub(r\"([?.!,¿])\", r\" \\1 \", w)\n",
        "    w = re.sub(r'[\" \"]+', \" \", w)\n",
        "\n",
        "    # replacing everything with space except (a-z, A-Z, \".\", \"?\", \"!\", \",\")\n",
        "    w = re.sub(r\"[^a-zA-Z?.!,¿]+\", \" \", w)\n",
        "\n",
        "    w = w.rstrip().strip()\n",
        "\n",
        "    # adding a start and an end token to the sentence\n",
        "    # so that the model know when to start and stop predicting.\n",
        "    w = '<start> ' + w + ' <end>'\n",
        "    return w"
      ],
      "execution_count": null,
      "outputs": []
    },
    {
      "cell_type": "code",
      "metadata": {
        "id": "1Q5wpc574qCA",
        "colab_type": "code",
        "colab": {}
      },
      "source": [
        "import tensorflow as tf\n",
        "import unicodedata\n",
        "import re\n",
        "def unicode_to_ascii(s):\n",
        "    return ''.join(c for c in unicodedata.normalize('NFD', s)\n",
        "      if unicodedata.category(c) != 'Mn')"
      ],
      "execution_count": null,
      "outputs": []
    },
    {
      "cell_type": "code",
      "metadata": {
        "id": "MqPrXnkV4qCE",
        "colab_type": "code",
        "colab": {
          "base_uri": "https://localhost:8080/",
          "height": 87
        },
        "outputId": "8a1c5d7d-80b5-488f-bc67-d445e7e07f4c"
      },
      "source": [
        "for i in range(tokens.shape[0]):\n",
        "    tokens[i,1] = preprocess_sentence(tokens[i,1])\n",
        "tokens[24087,:]"
      ],
      "execution_count": null,
      "outputs": [
        {
          "output_type": "execute_result",
          "data": {
            "text/plain": [
              "matrix([['Kxa0mnDj0bs',\n",
              "         '<start> a big cat fought with a smll black cat . tat big cat is drinking its food . it also dashes the little child . somebody helping it for iching its body . small black cat act as dead one . the cat jumps higher . two cats are disturbing a person . one cat fell into a box . a cat gets scarred . a cat forced down a child in ground . a cat disturbes the fishes and fish tank settings . a dog and a cat fights each other . a bear scarred of a cat . a rat rotates a cat . a cat rotates a bed . on friday work , penguins enjoys with its family and swims in water . on monday work , a single polar fell in ice . a dog was skateboarding . eventhough a drum falls , its getting skate board safely and again doing excellent skateboarding in a roa']],\n",
              "       dtype='<U742')"
            ]
          },
          "metadata": {
            "tags": []
          },
          "execution_count": 12
        }
      ]
    },
    {
      "cell_type": "code",
      "metadata": {
        "id": "wnHwpAjW4qCI",
        "colab_type": "code",
        "colab": {}
      },
      "source": [
        "lines = tokens[:,1]"
      ],
      "execution_count": null,
      "outputs": []
    },
    {
      "cell_type": "code",
      "metadata": {
        "id": "uf5YYHzt4qCM",
        "colab_type": "code",
        "colab": {}
      },
      "source": [
        "def max_length(tensor):\n",
        "    return max(len(t) for t in tensor)\n",
        "\n",
        "def tokenize(lang):\n",
        "    lang_tokenizer = tf.keras.preprocessing.text.Tokenizer(\n",
        "      filters='')\n",
        "    lang_tokenizer.fit_on_texts(lang)\n",
        "\n",
        "    tensor = lang_tokenizer.texts_to_sequences(lang)\n",
        "\n",
        "    tensor = tf.keras.preprocessing.sequence.pad_sequences(tensor,\n",
        "                                                         padding='post')\n",
        "\n",
        "    return tensor, lang_tokenizer"
      ],
      "execution_count": null,
      "outputs": []
    },
    {
      "cell_type": "code",
      "metadata": {
        "id": "L55gOKMj4qCQ",
        "colab_type": "code",
        "colab": {
          "base_uri": "https://localhost:8080/",
          "height": 34
        },
        "outputId": "3f9cfc00-4a55-4c2b-af7f-de814bce6d7a"
      },
      "source": [
        "z = []\n",
        "for i in range(len(lines)):\n",
        "    z.append(lines[i,0])\n",
        "# z\n",
        "z.pop(24087)\n",
        "for i in range(len(z)):\n",
        "    if len(z[i].split())==161:\n",
        "        print(i,z[i])\n",
        "print(z[0])"
      ],
      "execution_count": null,
      "outputs": [
        {
          "output_type": "stream",
          "text": [
            "<start> a bird in a sink keeps getting under the running water from a faucet . <end>\n"
          ],
          "name": "stdout"
        }
      ]
    },
    {
      "cell_type": "code",
      "metadata": {
        "id": "Eoi-uFXz4qCU",
        "colab_type": "code",
        "colab": {
          "base_uri": "https://localhost:8080/",
          "height": 302
        },
        "outputId": "694aeda4-7c46-489c-e5a5-be79fa0904cd"
      },
      "source": [
        "input_tensor, inp_lang_tokenizer = tokenize(z)\n",
        "\n",
        "def convert(lang, tensor):\n",
        "    for t in tensor:\n",
        "        if t!=0:\n",
        "            print (\"%d ----> %s\" % (t, lang.index_word[t]))\n",
        "\n",
        "convert(inp_lang_tokenizer, input_tensor[0])"
      ],
      "execution_count": null,
      "outputs": [
        {
          "output_type": "stream",
          "text": [
            "2 ----> <start>\n",
            "1 ----> a\n",
            "252 ----> bird\n",
            "9 ----> in\n",
            "1 ----> a\n",
            "467 ----> sink\n",
            "2364 ----> keeps\n",
            "245 ----> getting\n",
            "317 ----> under\n",
            "6 ----> the\n",
            "47 ----> running\n",
            "32 ----> water\n",
            "36 ----> from\n",
            "1 ----> a\n",
            "900 ----> faucet\n",
            "4 ----> .\n",
            "3 ----> <end>\n"
          ],
          "name": "stdout"
        }
      ]
    },
    {
      "cell_type": "code",
      "metadata": {
        "id": "b8OK7EL54qCY",
        "colab_type": "code",
        "colab": {}
      },
      "source": [
        "import os\n",
        "files = []\n",
        "path = '/content/drive/My Drive/Colab Notebooks/CV_Project/YouTubeClips'\n",
        "# r=root, d=directories, f = files\n",
        "for r, d, f in os.walk(path):\n",
        "    for file in f:\n",
        "        if '.avi' in file:\n",
        "            files.append(os.path.join(r, file))"
      ],
      "execution_count": null,
      "outputs": []
    },
    {
      "cell_type": "code",
      "metadata": {
        "id": "hFRCmjIQ635P",
        "colab_type": "code",
        "colab": {
          "base_uri": "https://localhost:8080/",
          "height": 34
        },
        "outputId": "365d23f1-7c6d-4990-df4a-7914d25c4a36"
      },
      "source": [
        "len(f)"
      ],
      "execution_count": null,
      "outputs": [
        {
          "output_type": "execute_result",
          "data": {
            "text/plain": [
              "1993"
            ]
          },
          "metadata": {
            "tags": []
          },
          "execution_count": 18
        }
      ]
    },
    {
      "cell_type": "code",
      "metadata": {
        "id": "OaD3-L3g4qCd",
        "colab_type": "code",
        "colab": {
          "base_uri": "https://localhost:8080/",
          "height": 924
        },
        "outputId": "42ce6684-8781-40c3-c679-2731f48e788e"
      },
      "source": [
        "import tensorflow as tf\n",
        "input_shape=(224,224,3)\n",
        "model_vgg = tf.keras.applications.VGG16(include_top=True,input_shape=input_shape)\n",
        "\n",
        "new_input = model_vgg.input\n",
        "hidden_layer = model_vgg.layers[-2].output\n",
        "\n",
        "base_model = tf.keras.Model(new_input, hidden_layer)\n",
        "base_model.summary()"
      ],
      "execution_count": null,
      "outputs": [
        {
          "output_type": "stream",
          "text": [
            "Downloading data from https://github.com/fchollet/deep-learning-models/releases/download/v0.1/vgg16_weights_tf_dim_ordering_tf_kernels.h5\n",
            "553467904/553467096 [==============================] - 33s 0us/step\n",
            "Model: \"model\"\n",
            "_________________________________________________________________\n",
            "Layer (type)                 Output Shape              Param #   \n",
            "=================================================================\n",
            "input_1 (InputLayer)         [(None, 224, 224, 3)]     0         \n",
            "_________________________________________________________________\n",
            "block1_conv1 (Conv2D)        (None, 224, 224, 64)      1792      \n",
            "_________________________________________________________________\n",
            "block1_conv2 (Conv2D)        (None, 224, 224, 64)      36928     \n",
            "_________________________________________________________________\n",
            "block1_pool (MaxPooling2D)   (None, 112, 112, 64)      0         \n",
            "_________________________________________________________________\n",
            "block2_conv1 (Conv2D)        (None, 112, 112, 128)     73856     \n",
            "_________________________________________________________________\n",
            "block2_conv2 (Conv2D)        (None, 112, 112, 128)     147584    \n",
            "_________________________________________________________________\n",
            "block2_pool (MaxPooling2D)   (None, 56, 56, 128)       0         \n",
            "_________________________________________________________________\n",
            "block3_conv1 (Conv2D)        (None, 56, 56, 256)       295168    \n",
            "_________________________________________________________________\n",
            "block3_conv2 (Conv2D)        (None, 56, 56, 256)       590080    \n",
            "_________________________________________________________________\n",
            "block3_conv3 (Conv2D)        (None, 56, 56, 256)       590080    \n",
            "_________________________________________________________________\n",
            "block3_pool (MaxPooling2D)   (None, 28, 28, 256)       0         \n",
            "_________________________________________________________________\n",
            "block4_conv1 (Conv2D)        (None, 28, 28, 512)       1180160   \n",
            "_________________________________________________________________\n",
            "block4_conv2 (Conv2D)        (None, 28, 28, 512)       2359808   \n",
            "_________________________________________________________________\n",
            "block4_conv3 (Conv2D)        (None, 28, 28, 512)       2359808   \n",
            "_________________________________________________________________\n",
            "block4_pool (MaxPooling2D)   (None, 14, 14, 512)       0         \n",
            "_________________________________________________________________\n",
            "block5_conv1 (Conv2D)        (None, 14, 14, 512)       2359808   \n",
            "_________________________________________________________________\n",
            "block5_conv2 (Conv2D)        (None, 14, 14, 512)       2359808   \n",
            "_________________________________________________________________\n",
            "block5_conv3 (Conv2D)        (None, 14, 14, 512)       2359808   \n",
            "_________________________________________________________________\n",
            "block5_pool (MaxPooling2D)   (None, 7, 7, 512)         0         \n",
            "_________________________________________________________________\n",
            "flatten (Flatten)            (None, 25088)             0         \n",
            "_________________________________________________________________\n",
            "fc1 (Dense)                  (None, 4096)              102764544 \n",
            "_________________________________________________________________\n",
            "fc2 (Dense)                  (None, 4096)              16781312  \n",
            "=================================================================\n",
            "Total params: 134,260,544\n",
            "Trainable params: 134,260,544\n",
            "Non-trainable params: 0\n",
            "_________________________________________________________________\n"
          ],
          "name": "stdout"
        }
      ]
    },
    {
      "cell_type": "code",
      "metadata": {
        "id": "l9fK7wt94qCh",
        "colab_type": "code",
        "colab": {}
      },
      "source": [
        "import numpy as np\n",
        "import cv2\n",
        "import os\n",
        "from tqdm import tqdm\n",
        "def extract_video_features(path, N, model):\n",
        "    video = np.zeros(shape=(N,224,224,3),dtype=np.float64)\n",
        "    vidcap = cv2.VideoCapture(path)\n",
        "    total_frames = vidcap.get(cv2.CAP_PROP_FRAME_COUNT)\n",
        "    if total_frames >= N : \n",
        "        frames_step = total_frames//N\n",
        "        for i in range(N):\n",
        "            vidcap.set(1,i*frames_step)\n",
        "            success,image = vidcap.read()\n",
        "            image = cv2.resize(image,(224,224))\n",
        "            video[i] = image\n",
        "    else:\n",
        "        j = int(N-total_frames)\n",
        "        for i in range(int(total_frames)):\n",
        "            vidcap.set(1,i)\n",
        "            success,image = vidcap.read()\n",
        "            image = cv2.resize(image,(224,224))\n",
        "            video[i+j] = image\n",
        "    vidcap.release()     \n",
        "    features = model(video)\n",
        "    return np.matrix(features)"
      ],
      "execution_count": null,
      "outputs": []
    },
    {
      "cell_type": "code",
      "metadata": {
        "id": "k6LODGWg4qCl",
        "colab_type": "code",
        "colab": {}
      },
      "source": [
        "from tqdm import tqdm\n",
        "videos = []\n",
        "description = []\n",
        "features = []\n",
        "a = {}\n",
        "count = 0\n",
        "for i in tqdm(range(len(tokens))):\n",
        "    if count>=10000:\n",
        "        break\n",
        "    if type(a.get(tokens[:,0][i].item())) == type(None) :\n",
        "        for j in range(len(f)):\n",
        "            if tokens[:,0][i].item() in f[j]:\n",
        "                e = extract_video_features(files[j], 30, base_model)\n",
        "                features.append(e)\n",
        "                description.append(tokens[:,1][i].item())\n",
        "                a[tokens[:,0][i].item()] = e\n",
        "                videos.append(tokens[:,0][i].item())\n",
        "                count+=1\n",
        "    else :\n",
        "        features.append(a[tokens[:,0][i].item()])\n",
        "        description.append(tokens[:,1][i].item())\n",
        "        videos.append(tokens[:,0][i].item())\n",
        "        count+=1"
      ],
      "execution_count": null,
      "outputs": []
    },
    {
      "cell_type": "code",
      "metadata": {
        "id": "YmLfOKal4qCo",
        "colab_type": "code",
        "colab": {}
      },
      "source": [
        "np.save(\"/content/drive/My Drive/Colab Notebooks/CV_Project/x_train1\",features)"
      ],
      "execution_count": null,
      "outputs": []
    },
    {
      "cell_type": "code",
      "metadata": {
        "id": "c7-NtBUn6orH",
        "colab_type": "code",
        "colab": {}
      },
      "source": [
        "np.save(\"/content/drive/My Drive/Colab Notebooks/CV_Project/y_train1\",description)"
      ],
      "execution_count": null,
      "outputs": []
    },
    {
      "cell_type": "code",
      "metadata": {
        "id": "EKOyRt3h7C9_",
        "colab_type": "code",
        "colab": {}
      },
      "source": [
        "np.save(\"/content/drive/My Drive/Colab Notebooks/CV_Project/videos1\",videos)"
      ],
      "execution_count": null,
      "outputs": []
    }
  ]
}